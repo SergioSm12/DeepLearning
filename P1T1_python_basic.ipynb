{
  "nbformat": 4,
  "nbformat_minor": 0,
  "metadata": {
    "colab": {
      "name": "P1T1_python_basic.ipynb",
      "provenance": [],
      "collapsed_sections": [],
      "toc_visible": true
    },
    "kernelspec": {
      "name": "python3",
      "display_name": "Python 3"
    },
    "language_info": {
      "name": "python"
    }
  },
  "cells": [
    {
      "cell_type": "markdown",
      "source": [
        "#Descripción\n",
        "\n",
        "\n",
        "*   @Author: Sergio David Mesa Buitrago\n",
        "*   @Date: 12/02/2022\n",
        "*   @Description:\n",
        "\n",
        "\n",
        "\n"
      ],
      "metadata": {
        "id": "Yp48u6aUrL3H"
      }
    },
    {
      "cell_type": "markdown",
      "source": [
        "\n",
        "\n",
        "*   Ejercicios basicos 1\n",
        "\n"
      ],
      "metadata": {
        "id": "F8KEjYMS0DgL"
      }
    },
    {
      "cell_type": "markdown",
      "source": [
        "\n",
        "\n",
        "*   Ejercicio 1: productos +IVA\n"
      ],
      "metadata": {
        "id": "_f-zYDYN0My5"
      }
    },
    {
      "cell_type": "code",
      "source": [
        "producto1 = int(input('input 1 product: '))\n",
        "producto2 = int(input('input 2 product :'))\n",
        "producto3 = int(input('input 3 product :'))\n",
        "producto4 = int(input('input 4 product :'))\n",
        "producto5 = int(input('input 5 product :'))\n",
        "\n",
        "suma = (producto1+producto2+producto3+producto4+producto5)\n",
        "iva = suma*0.19\n",
        "total= suma+iva\n",
        "print('Valor bruto',suma,\"\\nIVA\",iva,\"\\nTOTAL: \", total)"
      ],
      "metadata": {
        "colab": {
          "base_uri": "https://localhost:8080/"
        },
        "id": "zYLiQpfIrJnc",
        "outputId": "0a8af359-d2e6-47f7-a85c-3b0f6288f29c"
      },
      "execution_count": null,
      "outputs": [
        {
          "output_type": "stream",
          "name": "stdout",
          "text": [
            "input 1 product: 12\n",
            "input 2 product :21\n",
            "input 3 product :43\n",
            "input 4 product :54\n",
            "input 5 product :56\n",
            "Valor bruto 186 \n",
            "IVA 35.34 \n",
            "TOTAL:  221.34\n"
          ]
        }
      ]
    },
    {
      "cell_type": "markdown",
      "source": [
        "### Version Python"
      ],
      "metadata": {
        "id": "JA6FXwtJ3tTw"
      }
    },
    {
      "cell_type": "code",
      "source": [
        "pro1, pro2, pro3, pro4, pro5=input(\"input 1°,2°,3°,4° and 5° product with, separate: \").split(\",\")\n",
        "suma=(pro1+pro2+pro3+pro4+pro5)\n",
        "print('\"valor bruto:',suma,'\\nIVA',(suma+0.19),\"\\nTOTAl:\",(suma+(suma+0.19)))"
      ],
      "metadata": {
        "id": "Izs79UUP33nH"
      },
      "execution_count": null,
      "outputs": []
    },
    {
      "cell_type": "markdown",
      "source": [
        "ejercicio 2 mayor y menor\n"
      ],
      "metadata": {
        "id": "m903MkilCLFx"
      }
    },
    {
      "cell_type": "code",
      "source": [
        "numbers= []\n",
        "\n",
        "for n in range(3):\n",
        "  number=int(input('Enter to numbers #{}:'.format(n+1)))\n",
        "  numbers.append(number)\n",
        "\n",
        "mayor= numbers[0]\n",
        "menor= numbers[0]\n",
        "promedio= (numbers[0]+numbers[1]+numbers[2])/3\n",
        "print(\"promedio\",promedio)\n",
        "for number in numbers:\n",
        "   if number> mayor:\n",
        "     mayor=number\n",
        "   else:\n",
        "    if(number< menor):\n",
        "      menor=number\n",
        "\n",
        "\n",
        "print('mayor: ', mayor )\n",
        "print('menor: ', menor)"
      ],
      "metadata": {
        "colab": {
          "base_uri": "https://localhost:8080/"
        },
        "id": "UpOQ9vnL6KNz",
        "outputId": "94a0e6d0-9b90-4c27-ad3f-f99072679592"
      },
      "execution_count": null,
      "outputs": [
        {
          "output_type": "stream",
          "name": "stdout",
          "text": [
            "Enter to numbers #1:1\n",
            "Enter to numbers #2:2\n",
            "Enter to numbers #3:3\n",
            "2.0\n",
            "mayor:  3\n",
            "menor:  1\n"
          ]
        }
      ]
    },
    {
      "cell_type": "markdown",
      "source": [
        "Ejercicio 3\n"
      ],
      "metadata": {
        "id": "-LLKS7GHhxq-"
      }
    },
    {
      "cell_type": "markdown",
      "source": [
        "Vector Dinamico \n"
      ],
      "metadata": {
        "id": "0er_g6gkDULO"
      }
    },
    {
      "cell_type": "code",
      "source": [
        "lenght= int(input('Enter to lenght :'))\n",
        "\n",
        "numbers=[]\n",
        "\n",
        "for n in range(lenght):\n",
        "  number=int(input('Enter to numbers #{} '.format(n+1)))\n",
        "  numbers.append(number)\n",
        "\n",
        "numbers.sort()\n",
        "print('Lista ordenada',numbers)\n",
        "\n"
      ],
      "metadata": {
        "colab": {
          "base_uri": "https://localhost:8080/"
        },
        "id": "oVa-6K_tDci6",
        "outputId": "8d156e45-7eba-497d-fae1-41207de90e52"
      },
      "execution_count": 1,
      "outputs": [
        {
          "output_type": "stream",
          "name": "stdout",
          "text": [
            "Enter to lenght :8\n",
            "Enter to numbers #1 1\n",
            "Enter to numbers #2 5\n",
            "Enter to numbers #3 9\n",
            "Enter to numbers #4 7\n",
            "Enter to numbers #5 6\n",
            "Enter to numbers #6 4\n",
            "Enter to numbers #7 3\n",
            "Enter to numbers #8 2\n",
            "Lista ordenada [1, 2, 3, 4, 5, 6, 7, 9]\n"
          ]
        }
      ]
    }
  ]
}